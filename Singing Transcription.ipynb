{
 "cells": [
  {
   "cell_type": "code",
   "execution_count": 28,
   "metadata": {},
   "outputs": [],
   "source": [
    "import numpy as np\n",
    "import pandas as pd\n",
    "from hmm import GaussianHMM\n",
    "from sklearn.preprocessing import scale\n",
    "from matplotlib import cm, pyplot as plt"
   ]
  },
  {
   "cell_type": "code",
   "execution_count": 35,
   "metadata": {
    "scrolled": true
   },
   "outputs": [],
   "source": [
    "filename = 'data1'\n",
    "with open(filename) as f:\n",
    "    content = f.readlines()\n",
    "    \n",
    "observations, hidden = [], [] \n",
    "for x in content:\n",
    "    observations.append(x.strip().split(' ')[0])\n",
    "    hidden.append(x.strip().split(' ')[1])"
   ]
  },
  {
   "cell_type": "code",
   "execution_count": 36,
   "metadata": {},
   "outputs": [
    {
     "name": "stdout",
     "output_type": "stream",
     "text": [
      "7250 7250\n"
     ]
    }
   ],
   "source": [
    "print(len(observations), len(hidden))"
   ]
  },
  {
   "cell_type": "code",
   "execution_count": 43,
   "metadata": {},
   "outputs": [],
   "source": [
    "num_hidden_states = len(np.unique(hidden))"
   ]
  },
  {
   "cell_type": "code",
   "execution_count": 44,
   "metadata": {},
   "outputs": [
    {
     "data": {
      "text/plain": [
       "17"
      ]
     },
     "execution_count": 44,
     "metadata": {},
     "output_type": "execute_result"
    }
   ],
   "source": [
    "num_hidden_states"
   ]
  },
  {
   "cell_type": "code",
   "execution_count": 51,
   "metadata": {},
   "outputs": [],
   "source": [
    "observations = np.array(observations).reshape(-1, 1).astype(np.float)"
   ]
  },
  {
   "cell_type": "code",
   "execution_count": 60,
   "metadata": {},
   "outputs": [
    {
     "name": "stdout",
     "output_type": "stream",
     "text": [
      "0  iter\n",
      "1  iter\n",
      "2  iter\n",
      "3  iter\n",
      "4  iter\n",
      "5  iter\n",
      "6  iter\n",
      "7  iter\n",
      "8  iter\n",
      "9  iter\n",
      "10  iter\n",
      "11  iter\n",
      "12  iter\n",
      "13  iter\n",
      "14  iter\n",
      "15  iter\n",
      "16  iter\n",
      "17  iter\n",
      "18  iter\n",
      "19  iter\n",
      "20  iter\n",
      "21  iter\n",
      "22  iter\n",
      "23  iter\n",
      "24  iter\n",
      "25  iter\n",
      "26  iter\n",
      "27  iter\n",
      "28  iter\n",
      "29  iter\n",
      "30  iter\n",
      "31  iter\n",
      "32  iter\n",
      "33  iter\n",
      "34  iter\n",
      "35  iter\n",
      "36  iter\n",
      "37  iter\n",
      "38  iter\n",
      "39  iter\n",
      "40  iter\n",
      "41  iter\n",
      "42  iter\n",
      "43  iter\n",
      "44  iter\n",
      "45  iter\n",
      "46  iter\n",
      "47  iter\n",
      "48  iter\n",
      "49  iter\n",
      "50  iter\n",
      "51  iter\n",
      "52  iter\n",
      "53  iter\n",
      "54  iter\n",
      "55  iter\n",
      "56  iter\n",
      "57  iter\n",
      "58  iter\n",
      "59  iter\n",
      "60  iter\n",
      "61  iter\n",
      "62  iter\n",
      "63  iter\n",
      "64  iter\n",
      "65  iter\n",
      "66  iter\n",
      "67  iter\n",
      "68  iter\n",
      "69  iter\n",
      "70  iter\n",
      "71  iter\n",
      "72  iter\n",
      "73  iter\n",
      "74  iter\n",
      "75  iter\n",
      "76  iter\n",
      "77  iter\n",
      "78  iter\n",
      "79  iter\n",
      "80  iter\n",
      "81  iter\n",
      "82  iter\n",
      "83  iter\n",
      "84  iter\n",
      "85  iter\n",
      "86  iter\n",
      "87  iter\n",
      "88  iter\n",
      "89  iter\n",
      "90  iter\n",
      "91  iter\n",
      "92  iter\n",
      "93  iter\n",
      "94  iter\n",
      "95  iter\n",
      "96  iter\n",
      "97  iter\n",
      "98  iter\n",
      "99  iter\n"
     ]
    }
   ],
   "source": [
    "model = GaussianHMM(num_hidden_states,1,100)\n",
    "model.train(observations)"
   ]
  },
  {
   "cell_type": "code",
   "execution_count": 61,
   "metadata": {
    "scrolled": true
   },
   "outputs": [],
   "source": [
    "hidden_states = model.decode(observations)"
   ]
  },
  {
   "cell_type": "code",
   "execution_count": 64,
   "metadata": {},
   "outputs": [
    {
     "data": {
      "text/plain": [
       "array([13., 13., 13., 13., 13., 13., 13., 13., 13., 13., 13., 13., 13.,\n",
       "       13., 13., 13., 13., 13., 13.,  1.,  1.,  1., 13., 13., 13., 13.,\n",
       "       13.,  4.,  4.,  4.,  4.,  4.,  4.,  4.,  4.,  4.,  4.,  4.,  1.,\n",
       "        1.,  1.,  1.,  1.,  1.,  1.,  1.,  1.,  1.,  1.,  1.,  1.,  1.,\n",
       "        1.,  1.,  1.,  1.,  1.,  1.,  1.,  1., 13., 13., 13., 13., 13.,\n",
       "       13., 13., 13., 13., 13., 13., 13., 13., 13., 13., 13.])"
      ]
     },
     "execution_count": 64,
     "metadata": {},
     "output_type": "execute_result"
    }
   ],
   "source": [
    "# 這邊 hidden states 和 原本 pitch 之間的 mapping 會需要再處理一下\n",
    "# 目前簡單看起來 1 <=> 0、13 <=> 56、4 <=> 58...等等\n",
    "hidden_states[424:500]"
   ]
  },
  {
   "cell_type": "code",
   "execution_count": 56,
   "metadata": {},
   "outputs": [
    {
     "data": {
      "text/plain": [
       "array([ 0.,  1.,  2.,  3.,  4.,  5.,  6.,  7.,  8.,  9., 10., 11., 12.,\n",
       "       13., 14., 15., 16.])"
      ]
     },
     "execution_count": 56,
     "metadata": {},
     "output_type": "execute_result"
    }
   ],
   "source": [
    "np.unique(hidden_states)"
   ]
  },
  {
   "cell_type": "code",
   "execution_count": null,
   "metadata": {},
   "outputs": [],
   "source": [
    "print(\"Transition matrix: \", model.transmat_prob)\n",
    "print(\"Means and vars of each hidden state\")\n",
    "for i in range(model.n_state):\n",
    "    print(\"{0}th hidden state\".format(i))\n",
    "    print(\"mean = \", model.emit_means[i])\n",
    "    print(\"var = \", model.emit_covars[i])\n",
    "    print()"
   ]
  }
 ],
 "metadata": {
  "kernelspec": {
   "display_name": "Python 3",
   "language": "python",
   "name": "python3"
  },
  "language_info": {
   "codemirror_mode": {
    "name": "ipython",
    "version": 3
   },
   "file_extension": ".py",
   "mimetype": "text/x-python",
   "name": "python",
   "nbconvert_exporter": "python",
   "pygments_lexer": "ipython3",
   "version": "3.7.3"
  }
 },
 "nbformat": 4,
 "nbformat_minor": 2
}
